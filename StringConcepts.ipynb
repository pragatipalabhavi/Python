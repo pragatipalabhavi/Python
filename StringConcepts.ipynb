{
 "cells": [
  {
   "cell_type": "code",
   "execution_count": 2,
   "id": "f6c8b486-71a4-43fe-acb7-4aacdfccd9be",
   "metadata": {},
   "outputs": [],
   "source": [
    "newString = 'cat'"
   ]
  },
  {
   "cell_type": "code",
   "execution_count": 4,
   "id": "71d440c6-36c9-4a3e-84f8-53f60077e16c",
   "metadata": {},
   "outputs": [
    {
     "ename": "TypeError",
     "evalue": "'str' object does not support item assignment",
     "output_type": "error",
     "traceback": [
      "\u001b[0;31m---------------------------------------------------------------------------\u001b[0m",
      "\u001b[0;31mTypeError\u001b[0m                                 Traceback (most recent call last)",
      "Cell \u001b[0;32mIn[4], line 1\u001b[0m\n\u001b[0;32m----> 1\u001b[0m newString[\u001b[38;5;241m0\u001b[39m] \u001b[38;5;241m=\u001b[39m \u001b[38;5;124m'\u001b[39m\u001b[38;5;124mM\u001b[39m\u001b[38;5;124m'\u001b[39m\n",
      "\u001b[0;31mTypeError\u001b[0m: 'str' object does not support item assignment"
     ]
    }
   ],
   "source": [
    "newString[0] = 'M'"
   ]
  },
  {
   "cell_type": "code",
   "execution_count": 6,
   "id": "ce27ffab-ba86-4d1b-bcaa-d0dc33077871",
   "metadata": {},
   "outputs": [
    {
     "name": "stdout",
     "output_type": "stream",
     "text": [
      "cat\n"
     ]
    }
   ],
   "source": [
    "print(newString)"
   ]
  },
  {
   "cell_type": "code",
   "execution_count": 8,
   "id": "97c41cba-4291-44dd-9da9-5216f3785c69",
   "metadata": {},
   "outputs": [],
   "source": [
    "updatedNewString = newString[1:]"
   ]
  },
  {
   "cell_type": "code",
   "execution_count": 10,
   "id": "f918d7c0-3c47-4dde-be61-2c1bd1b53a09",
   "metadata": {},
   "outputs": [
    {
     "name": "stdout",
     "output_type": "stream",
     "text": [
      "at\n"
     ]
    }
   ],
   "source": [
    "print(updatedNewString)"
   ]
  },
  {
   "cell_type": "code",
   "execution_count": 14,
   "id": "3bd83d4e-f6ea-4baa-a50b-0d7456ed68b7",
   "metadata": {},
   "outputs": [
    {
     "data": {
      "text/plain": [
       "'Rats'"
      ]
     },
     "execution_count": 14,
     "metadata": {},
     "output_type": "execute_result"
    }
   ],
   "source": [
    "'R' + updatedNewString + 's'"
   ]
  },
  {
   "cell_type": "code",
   "execution_count": 16,
   "id": "86ae015f-fb48-4a98-8ee3-39a1f7d89bcc",
   "metadata": {},
   "outputs": [],
   "source": [
    "x = 'Besant Technologies'"
   ]
  },
  {
   "cell_type": "code",
   "execution_count": 18,
   "id": "57f92dc7-569e-432f-8a55-5fd5339eb922",
   "metadata": {},
   "outputs": [
    {
     "name": "stdout",
     "output_type": "stream",
     "text": [
      "Besant Technologies\n"
     ]
    }
   ],
   "source": [
    "print(x)"
   ]
  },
  {
   "cell_type": "code",
   "execution_count": 20,
   "id": "2ed7778b-08db-448b-ba1a-dfb7f22e8744",
   "metadata": {},
   "outputs": [],
   "source": [
    "z = 10"
   ]
  },
  {
   "cell_type": "code",
   "execution_count": 30,
   "id": "24b13a9a-c707-4a78-a2c0-29554f14fa4e",
   "metadata": {},
   "outputs": [],
   "source": [
    "z+= 2 #z=10+2 latest value Z=12"
   ]
  },
  {
   "cell_type": "code",
   "execution_count": 24,
   "id": "2ca82a3c-cf73-4f4e-b4a8-a5ca6579f3a1",
   "metadata": {},
   "outputs": [
    {
     "name": "stdout",
     "output_type": "stream",
     "text": [
      "12\n"
     ]
    }
   ],
   "source": [
    "print(z)"
   ]
  },
  {
   "cell_type": "code",
   "execution_count": 28,
   "id": "90c5d43f-2881-4e23-8cf2-22241a0d4d15",
   "metadata": {},
   "outputs": [
    {
     "data": {
      "text/plain": [
       "'Besant Technologies Hebbal, Bengaluru'"
      ]
     },
     "execution_count": 28,
     "metadata": {},
     "output_type": "execute_result"
    }
   ],
   "source": [
    "x + ' Hebbal, Bengaluru'"
   ]
  },
  {
   "cell_type": "code",
   "execution_count": 42,
   "id": "df84b85c-48ed-43b9-9cad-cdd52dd062ed",
   "metadata": {},
   "outputs": [],
   "source": [
    "x += ' Hebbal, Bengaluru'  #executes this line 3 times"
   ]
  },
  {
   "cell_type": "code",
   "execution_count": 44,
   "id": "b885b897-8c74-4070-914f-0f05f442b4d9",
   "metadata": {},
   "outputs": [
    {
     "name": "stdout",
     "output_type": "stream",
     "text": [
      "Besant Technologies Hebbal, Bengaluru Hebbal, Bengaluru Hebbal, Bengaluru\n"
     ]
    }
   ],
   "source": [
    "print(x)"
   ]
  },
  {
   "cell_type": "code",
   "execution_count": 46,
   "id": "f3d435ea-91c7-4420-91d1-fabf5d3c3aae",
   "metadata": {},
   "outputs": [],
   "source": [
    "Alphabet = 'q'"
   ]
  },
  {
   "cell_type": "code",
   "execution_count": 54,
   "id": "82943d71-b928-49c8-8105-03aa56ee4352",
   "metadata": {},
   "outputs": [
    {
     "data": {
      "text/plain": [
       "'qqqqqqqqqqqqqqqqqqqq'"
      ]
     },
     "execution_count": 54,
     "metadata": {},
     "output_type": "execute_result"
    }
   ],
   "source": [
    "Alphabet * 20"
   ]
  },
  {
   "cell_type": "markdown",
   "id": "b94f5a22-fa7b-4361-ab3b-6491c6fa2dee",
   "metadata": {},
   "source": [
    "Use + operator with different data types"
   ]
  },
  {
   "cell_type": "code",
   "execution_count": 57,
   "id": "3bf540c3-2f8b-467b-a0d0-0dc38a2e934b",
   "metadata": {},
   "outputs": [
    {
     "data": {
      "text/plain": [
       "4"
      ]
     },
     "execution_count": 57,
     "metadata": {},
     "output_type": "execute_result"
    }
   ],
   "source": [
    "2 + 2"
   ]
  },
  {
   "cell_type": "code",
   "execution_count": 59,
   "id": "e4b63e24-6501-4a9c-b664-7796bcd709d2",
   "metadata": {},
   "outputs": [
    {
     "data": {
      "text/plain": [
       "'22'"
      ]
     },
     "execution_count": 59,
     "metadata": {},
     "output_type": "execute_result"
    }
   ],
   "source": [
    "'2' +'2'"
   ]
  },
  {
   "cell_type": "code",
   "execution_count": 61,
   "id": "8d933504-f652-48d9-a20c-a3d1ba4b4d49",
   "metadata": {},
   "outputs": [
    {
     "ename": "TypeError",
     "evalue": "can only concatenate str (not \"int\") to str",
     "output_type": "error",
     "traceback": [
      "\u001b[0;31m---------------------------------------------------------------------------\u001b[0m",
      "\u001b[0;31mTypeError\u001b[0m                                 Traceback (most recent call last)",
      "Cell \u001b[0;32mIn[61], line 1\u001b[0m\n\u001b[0;32m----> 1\u001b[0m \u001b[38;5;124m'\u001b[39m\u001b[38;5;124m2\u001b[39m\u001b[38;5;124m'\u001b[39m \u001b[38;5;241m+\u001b[39m \u001b[38;5;241m2\u001b[39m\n",
      "\u001b[0;31mTypeError\u001b[0m: can only concatenate str (not \"int\") to str"
     ]
    }
   ],
   "source": [
    "'2' + 2"
   ]
  },
  {
   "cell_type": "code",
   "execution_count": 63,
   "id": "c9defe95-7c54-443b-aabf-dbd52810dc5b",
   "metadata": {},
   "outputs": [],
   "source": [
    "y = 'Besant Technologies'"
   ]
  },
  {
   "cell_type": "code",
   "execution_count": 65,
   "id": "68dcf540-b914-4dee-ac67-7033ee437005",
   "metadata": {},
   "outputs": [
    {
     "data": {
      "text/plain": [
       "'BESANT TECHNOLOGIES'"
      ]
     },
     "execution_count": 65,
     "metadata": {},
     "output_type": "execute_result"
    }
   ],
   "source": [
    "y.upper()"
   ]
  },
  {
   "cell_type": "markdown",
   "id": "4e7cb8fa-db52-40e4-927e-07ba066c5e14",
   "metadata": {},
   "source": [
    "Type markdown and LaTeX: a2\n",
    "\n",
    "split divides the string on the basis of white spaces"
   ]
  },
  {
   "cell_type": "code",
   "execution_count": 68,
   "id": "15f31937-7766-446e-9094-5b7403f69af1",
   "metadata": {},
   "outputs": [],
   "source": [
    "var = y.split()"
   ]
  },
  {
   "cell_type": "code",
   "execution_count": 70,
   "id": "6b8d2964-643b-4348-bad6-a0b0d1d4d963",
   "metadata": {},
   "outputs": [
    {
     "data": {
      "text/plain": [
       "['Besant', 'Technologies']"
      ]
     },
     "execution_count": 70,
     "metadata": {},
     "output_type": "execute_result"
    }
   ],
   "source": [
    "var"
   ]
  },
  {
   "cell_type": "code",
   "execution_count": 85,
   "id": "8c6aae9d-d784-45b4-83e5-8f3d7dd1d7ed",
   "metadata": {},
   "outputs": [],
   "source": [
    "var1 = \"Besant Technologies\""
   ]
  },
  {
   "cell_type": "code",
   "execution_count": 87,
   "id": "11e571ed-4d95-41e3-984c-409058aeb38e",
   "metadata": {},
   "outputs": [
    {
     "name": "stdout",
     "output_type": "stream",
     "text": [
      "I visit Besant Technologies to learn Python\n"
     ]
    }
   ],
   "source": [
    "print('I visit Besant Technologies to learn Python' )"
   ]
  },
  {
   "cell_type": "markdown",
   "id": "206774c6-da36-43df-96c8-974997e9c366",
   "metadata": {},
   "source": [
    ".format or f-string"
   ]
  },
  {
   "cell_type": "code",
   "execution_count": 92,
   "id": "609be36e-18e4-43be-ba1a-e8bb5ce81864",
   "metadata": {},
   "outputs": [
    {
     "name": "stdout",
     "output_type": "stream",
     "text": [
      "I visit Besant Technologies to learn Python\n"
     ]
    }
   ],
   "source": [
    "print(\"I visit\",var1, \"to learn Python\")"
   ]
  },
  {
   "cell_type": "code",
   "execution_count": 96,
   "id": "f719c094-0260-4e21-80c8-418c84deba90",
   "metadata": {},
   "outputs": [
    {
     "name": "stdout",
     "output_type": "stream",
     "text": [
      "I visit Besant Technologies to learn Besant Technologies Python\n"
     ]
    }
   ],
   "source": [
    "print(\"I visit {} to learn {} Python\" .format(var1, \"Besant Technologies\"))"
   ]
  },
  {
   "cell_type": "code",
   "execution_count": 98,
   "id": "a1266e95-7a71-42b4-9935-044579c0d2d9",
   "metadata": {},
   "outputs": [
    {
     "name": "stdout",
     "output_type": "stream",
     "text": [
      "I visit Besant Technologies to learn Besant Technologies Python\n"
     ]
    }
   ],
   "source": [
    "print(\"I visit {0} to learn {1} Python\" .format(var1, \"Besant Technologies\"))"
   ]
  },
  {
   "cell_type": "code",
   "execution_count": 102,
   "id": "05b7345e-33f6-4126-abc0-4ce6929addac",
   "metadata": {},
   "outputs": [
    {
     "ename": "SyntaxError",
     "evalue": "unterminated string literal (detected at line 1) (1921371210.py, line 1)",
     "output_type": "error",
     "traceback": [
      "\u001b[0;36m  Cell \u001b[0;32mIn[102], line 1\u001b[0;36m\u001b[0m\n\u001b[0;31m    print(\"I visit {a} to learn {b} Python\" .format(v=\"var1\" , b=\"Besant Technologies))\u001b[0m\n\u001b[0m                                                                 ^\u001b[0m\n\u001b[0;31mSyntaxError\u001b[0m\u001b[0;31m:\u001b[0m unterminated string literal (detected at line 1)\n"
     ]
    }
   ],
   "source": [
    "print(\"I visit {a} to learn {b} Python\" .format(v=\"var1\" , b=\"Besant Technologies))"
   ]
  },
  {
   "cell_type": "code",
   "execution_count": 112,
   "id": "d11a945e-231c-4651-8561-ae3d593bcfb8",
   "metadata": {},
   "outputs": [
    {
     "name": "stdout",
     "output_type": "stream",
     "text": [
      "1.  I learn python everyday at Besant TechnologiesI learn python everyday at Besant TechnologiesI learn python everyday at Besant TechnologiesI learn python everyday at Besant TechnologiesI learn python everyday at Besant TechnologiesI learn python everyday at Besant TechnologiesI learn python everyday at Besant TechnologiesI learn python everyday at Besant Technologies \n",
      " 2. I learn python everyday at Besant TechnologiesI learn python everyday at Besant TechnologiesI learn python everyday at Besant TechnologiesI learn python everyday at Besant TechnologiesI learn python everyday at Besant TechnologiesI learn python everyday at Besant TechnologiesI learn python everyday at Besant TechnologiesI learn python everyday at Besant Technologies\n"
     ]
    }
   ],
   "source": [
    "print(f\"1. {var1} \\n 2.{var1}\")"
   ]
  },
  {
   "cell_type": "code",
   "execution_count": 110,
   "id": "309f07aa-e050-4258-bb93-ffeebc23e585",
   "metadata": {},
   "outputs": [],
   "source": [
    "var1 = \" I learn python everyday at Besant TechnologiesI learn python everyday at Besant TechnologiesI learn python everyday at Besant TechnologiesI learn python everyday at Besant TechnologiesI learn python everyday at Besant TechnologiesI learn python everyday at Besant TechnologiesI learn python everyday at Besant TechnologiesI learn python everyday at Besant Technologies\""
   ]
  },
  {
   "cell_type": "code",
   "execution_count": null,
   "id": "88c5b9c9-5c14-45fb-9cbc-a42a5a0fbe33",
   "metadata": {},
   "outputs": [],
   "source": []
  }
 ],
 "metadata": {
  "kernelspec": {
   "display_name": "Python [conda env:base] *",
   "language": "python",
   "name": "conda-base-py"
  },
  "language_info": {
   "codemirror_mode": {
    "name": "ipython",
    "version": 3
   },
   "file_extension": ".py",
   "mimetype": "text/x-python",
   "name": "python",
   "nbconvert_exporter": "python",
   "pygments_lexer": "ipython3",
   "version": "3.12.7"
  }
 },
 "nbformat": 4,
 "nbformat_minor": 5
}
