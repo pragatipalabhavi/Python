{
 "cells": [
  {
   "cell_type": "markdown",
   "id": "967632ee-f8dc-4e12-8655-cbda029d6558",
   "metadata": {},
   "source": [
    "Dictionaries are unordered mapping of storing objects. Previously we saw how lists store objects in an ordered sequence. dictionary use key-value paring instead.\n",
    "\n",
    "This key-value pair allows user to quickly grab objects without needing to know an index location.\n",
    "\n",
    "Dictionaries use curly braces and colons to signify the keys and their associated values.\n",
    "\n",
    "{'key1':'value1', 'key2':'value2' ,'key3' :'value3'}\n",
    "\n",
    "DICTIONARIES ARE MUTUABLE"
   ]
  },
  {
   "cell_type": "markdown",
   "id": "7128adcc-1937-4ef8-9aaa-4aa2eb4000c2",
   "metadata": {},
   "source": [
    "Dictironary vs List\n",
    "\n",
    "dictionary is used when we don't know the index values and where the items cannot be sorted. e just need to know the key-value pair.\n",
    "\n",
    "Lists can be retrived based on location. ordered sequence can be indexed or sliced.\n",
    "\n",
    "\n",
    "KEYS SHOULD ALWAYS BE STRINGS, VALUES CAN BE OF ANY DATA TYE."
   ]
  },
  {
   "cell_type": "code",
   "execution_count": 6,
   "id": "96eb7a71-35b0-4b7f-a47d-7419199050d5",
   "metadata": {},
   "outputs": [],
   "source": [
    "myDict = {'key1':'value1', 'key2':'value2' ,'key3' :'value3'}"
   ]
  },
  {
   "cell_type": "code",
   "execution_count": 8,
   "id": "48cda543-d5e4-4193-ae7f-bc9525ce28ee",
   "metadata": {},
   "outputs": [
    {
     "data": {
      "text/plain": [
       "'value3'"
      ]
     },
     "execution_count": 8,
     "metadata": {},
     "output_type": "execute_result"
    }
   ],
   "source": [
    "myDict['key3']"
   ]
  },
  {
   "cell_type": "code",
   "execution_count": 10,
   "id": "4864c987-cd64-476c-9bf8-6a29d964a2f3",
   "metadata": {},
   "outputs": [
    {
     "ename": "KeyError",
     "evalue": "'key4'",
     "output_type": "error",
     "traceback": [
      "\u001b[0;31m---------------------------------------------------------------------------\u001b[0m",
      "\u001b[0;31mKeyError\u001b[0m                                  Traceback (most recent call last)",
      "Cell \u001b[0;32mIn[10], line 1\u001b[0m\n\u001b[0;32m----> 1\u001b[0m myDict[\u001b[38;5;124m'\u001b[39m\u001b[38;5;124mkey4\u001b[39m\u001b[38;5;124m'\u001b[39m]\n",
      "\u001b[0;31mKeyError\u001b[0m: 'key4'"
     ]
    }
   ],
   "source": [
    "myDict['key4']"
   ]
  },
  {
   "cell_type": "code",
   "execution_count": 12,
   "id": "3ccc6c70-7e31-47d6-896f-1da83c712847",
   "metadata": {},
   "outputs": [
    {
     "data": {
      "text/plain": [
       "{'key1': 'value1', 'key2': 'value2', 'key3': 'value3'}"
      ]
     },
     "execution_count": 12,
     "metadata": {},
     "output_type": "execute_result"
    }
   ],
   "source": [
    "myDict"
   ]
  },
  {
   "cell_type": "code",
   "execution_count": 14,
   "id": "e7a84e41-3ce0-4e91-b24d-1e4dfc10b771",
   "metadata": {},
   "outputs": [],
   "source": [
    "checkprices = {'pen':25, 'marker':35, 'Chocolate':45.67}"
   ]
  },
  {
   "cell_type": "code",
   "execution_count": 16,
   "id": "c6df1a37-4449-4644-bbab-72a4b2677a89",
   "metadata": {},
   "outputs": [
    {
     "data": {
      "text/plain": [
       "25"
      ]
     },
     "execution_count": 16,
     "metadata": {},
     "output_type": "execute_result"
    }
   ],
   "source": [
    "checkprices['pen']"
   ]
  },
  {
   "cell_type": "code",
   "execution_count": 18,
   "id": "490e3ce2-f79d-4279-b74d-d988bbf493c7",
   "metadata": {},
   "outputs": [
    {
     "data": {
      "text/plain": [
       "45.67"
      ]
     },
     "execution_count": 18,
     "metadata": {},
     "output_type": "execute_result"
    }
   ],
   "source": [
    "checkprices['Chocolate']"
   ]
  },
  {
   "cell_type": "code",
   "execution_count": 7,
   "id": "d22517ef-20ba-44ea-91a8-c9f36fa5dce2",
   "metadata": {},
   "outputs": [],
   "source": [
    "d = {'k1':123,'k2':[30,10,20],'k3':{'insidekey':250,'outsidekey':'Hi','new':[10,20,50]}}"
   ]
  },
  {
   "cell_type": "code",
   "execution_count": 9,
   "id": "f326e21c-82d7-4220-a70a-bee4482823a4",
   "metadata": {},
   "outputs": [
    {
     "data": {
      "text/plain": [
       "{'k1': 123,\n",
       " 'k2': [30, 10, 20],\n",
       " 'k3': {'insidekey': 250, 'outsidekey': 'Hi', 'new': [10, 20, 50]}}"
      ]
     },
     "execution_count": 9,
     "metadata": {},
     "output_type": "execute_result"
    }
   ],
   "source": [
    "d"
   ]
  },
  {
   "cell_type": "code",
   "execution_count": 11,
   "id": "2d708c81-6f64-4007-a5f4-8687598a53da",
   "metadata": {},
   "outputs": [
    {
     "data": {
      "text/plain": [
       "50"
      ]
     },
     "execution_count": 11,
     "metadata": {},
     "output_type": "execute_result"
    }
   ],
   "source": [
    "d['k3']['new'][2]"
   ]
  },
  {
   "cell_type": "code",
   "execution_count": 15,
   "id": "055f5b18-865b-4c74-a55f-434c9b0bf854",
   "metadata": {},
   "outputs": [],
   "source": [
    "sum = d['k2'][-1]+ d['k2'][0]"
   ]
  },
  {
   "cell_type": "code",
   "execution_count": 17,
   "id": "e0af1c18-2d69-4180-ba05-24c8ec966614",
   "metadata": {},
   "outputs": [
    {
     "name": "stdout",
     "output_type": "stream",
     "text": [
      "50\n"
     ]
    }
   ],
   "source": [
    "print(sum)"
   ]
  },
  {
   "cell_type": "code",
   "execution_count": 19,
   "id": "112defb4-1c2c-4bd0-9ba7-338a793aaea6",
   "metadata": {},
   "outputs": [],
   "source": [
    "num_list = d['k3']['new'][2]"
   ]
  },
  {
   "cell_type": "code",
   "execution_count": 21,
   "id": "ed14b610-9ccb-49ec-8a01-c80f951062ec",
   "metadata": {},
   "outputs": [
    {
     "data": {
      "text/plain": [
       "50"
      ]
     },
     "execution_count": 21,
     "metadata": {},
     "output_type": "execute_result"
    }
   ],
   "source": [
    "num_list"
   ]
  },
  {
   "cell_type": "code",
   "execution_count": 23,
   "id": "be5ddd7c-0f8a-4ee0-9f1f-0c691e0a8f9f",
   "metadata": {},
   "outputs": [
    {
     "data": {
      "text/plain": [
       "20"
      ]
     },
     "execution_count": 23,
     "metadata": {},
     "output_type": "execute_result"
    }
   ],
   "source": [
    "d['k2'][2]"
   ]
  },
  {
   "cell_type": "code",
   "execution_count": 25,
   "id": "81789638-0072-4dda-a65b-a0067b9a1547",
   "metadata": {},
   "outputs": [
    {
     "data": {
      "text/plain": [
       "{'insidekey': 250, 'outsidekey': 'Hi', 'new': [10, 20, 50]}"
      ]
     },
     "execution_count": 25,
     "metadata": {},
     "output_type": "execute_result"
    }
   ],
   "source": [
    "d['k3']"
   ]
  },
  {
   "cell_type": "code",
   "execution_count": 27,
   "id": "012a985b-023c-4b99-986b-bfc1841c8ebf",
   "metadata": {},
   "outputs": [
    {
     "data": {
      "text/plain": [
       "250"
      ]
     },
     "execution_count": 27,
     "metadata": {},
     "output_type": "execute_result"
    }
   ],
   "source": [
    "d['k3']['insidekey']"
   ]
  },
  {
   "cell_type": "code",
   "execution_count": 29,
   "id": "52541b71-38a6-437f-bbcd-8ba85d25f560",
   "metadata": {},
   "outputs": [],
   "source": [
    "savedList = d['k2']"
   ]
  },
  {
   "cell_type": "code",
   "execution_count": 31,
   "id": "da211ee5-d694-4d6f-a46f-01f3aea68ba3",
   "metadata": {},
   "outputs": [
    {
     "data": {
      "text/plain": [
       "[30, 10, 20]"
      ]
     },
     "execution_count": 31,
     "metadata": {},
     "output_type": "execute_result"
    }
   ],
   "source": [
    "savedList"
   ]
  },
  {
   "cell_type": "code",
   "execution_count": 33,
   "id": "f42c55e3-4bed-4855-b7e4-604f48886e65",
   "metadata": {},
   "outputs": [
    {
     "data": {
      "text/plain": [
       "10"
      ]
     },
     "execution_count": 33,
     "metadata": {},
     "output_type": "execute_result"
    }
   ],
   "source": [
    "savedList[1]"
   ]
  },
  {
   "cell_type": "code",
   "execution_count": 35,
   "id": "16545d18-db3c-4615-b7af-5a56d6c4a4f3",
   "metadata": {},
   "outputs": [],
   "source": [
    "new = {'key1': ['a','b','c']}"
   ]
  },
  {
   "cell_type": "code",
   "execution_count": 37,
   "id": "00894462-b4aa-4e51-a7c6-2d728faef930",
   "metadata": {},
   "outputs": [
    {
     "data": {
      "text/plain": [
       "{'key1': ['a', 'b', 'c']}"
      ]
     },
     "execution_count": 37,
     "metadata": {},
     "output_type": "execute_result"
    }
   ],
   "source": [
    "new"
   ]
  },
  {
   "cell_type": "code",
   "execution_count": 39,
   "id": "b93e4fc9-7889-4b4b-b43c-b7425fcc87f4",
   "metadata": {},
   "outputs": [
    {
     "data": {
      "text/plain": [
       "'B'"
      ]
     },
     "execution_count": 39,
     "metadata": {},
     "output_type": "execute_result"
    }
   ],
   "source": [
    "new['key1'][1].upper()"
   ]
  },
  {
   "cell_type": "code",
   "execution_count": 41,
   "id": "6c097a3a-6c28-4031-9f68-68184d3086c9",
   "metadata": {},
   "outputs": [
    {
     "name": "stdout",
     "output_type": "stream",
     "text": [
      "b\n"
     ]
    }
   ],
   "source": [
    "print(new['key1'][1])"
   ]
  },
  {
   "cell_type": "code",
   "execution_count": 43,
   "id": "41fd5ad5-1b83-4d78-a38d-b526bf8b359f",
   "metadata": {},
   "outputs": [],
   "source": [
    "var = new['key1'][1]"
   ]
  },
  {
   "cell_type": "code",
   "execution_count": 45,
   "id": "3c581147-bb50-4f09-8405-f444c3b5df0a",
   "metadata": {},
   "outputs": [
    {
     "data": {
      "text/plain": [
       "'B'"
      ]
     },
     "execution_count": 45,
     "metadata": {},
     "output_type": "execute_result"
    }
   ],
   "source": [
    "var.upper()"
   ]
  },
  {
   "cell_type": "code",
   "execution_count": 47,
   "id": "687ee4e6-e3db-41d1-ac4e-352d19788e66",
   "metadata": {},
   "outputs": [],
   "source": [
    "newVar = {'book':{'one':['chapter1',2,'v']}}"
   ]
  },
  {
   "cell_type": "code",
   "execution_count": 49,
   "id": "b783c3c2-5a3a-47ee-9767-62e259345840",
   "metadata": {},
   "outputs": [
    {
     "data": {
      "text/plain": [
       "{'book': {'one': ['chapter1', 2, 'v']}}"
      ]
     },
     "execution_count": 49,
     "metadata": {},
     "output_type": "execute_result"
    }
   ],
   "source": [
    "newVar"
   ]
  },
  {
   "cell_type": "markdown",
   "id": "2b2913e7-ad24-4be3-84de-af717ad91d3b",
   "metadata": {},
   "source": [
    "Previous steps can be done in shortcut which is called as STACK CALLS."
   ]
  },
  {
   "cell_type": "code",
   "execution_count": 52,
   "id": "0e4b60c2-0f9b-4c23-8366-5670ae33a791",
   "metadata": {},
   "outputs": [
    {
     "data": {
      "text/plain": [
       "'C'"
      ]
     },
     "execution_count": 52,
     "metadata": {},
     "output_type": "execute_result"
    }
   ],
   "source": [
    "new['key1'][2].upper()"
   ]
  },
  {
   "cell_type": "markdown",
   "id": "7c4398ac-458c-44dc-abfc-63360c694c61",
   "metadata": {},
   "source": [
    "Insert a value later to the dictrionary."
   ]
  },
  {
   "cell_type": "code",
   "execution_count": 55,
   "id": "a140fe20-5d69-4fb9-bac9-e0307e0cc0c2",
   "metadata": {},
   "outputs": [],
   "source": [
    "q = {'key1':100, 'key2':200}"
   ]
  },
  {
   "cell_type": "code",
   "execution_count": 57,
   "id": "258d53e4-bb04-4e36-931b-65a8a1a52161",
   "metadata": {},
   "outputs": [
    {
     "data": {
      "text/plain": [
       "{'key1': 100, 'key2': 200}"
      ]
     },
     "execution_count": 57,
     "metadata": {},
     "output_type": "execute_result"
    }
   ],
   "source": [
    "q"
   ]
  },
  {
   "cell_type": "code",
   "execution_count": 59,
   "id": "19fa3d66-15fa-4364-a8a2-15f3d15a5b5f",
   "metadata": {},
   "outputs": [],
   "source": [
    "q['k3'] = 300"
   ]
  },
  {
   "cell_type": "code",
   "execution_count": 61,
   "id": "9f703fa1-00fd-4592-a048-a53ca65b1ce0",
   "metadata": {},
   "outputs": [
    {
     "data": {
      "text/plain": [
       "{'key1': 100, 'key2': 200, 'k3': 300}"
      ]
     },
     "execution_count": 61,
     "metadata": {},
     "output_type": "execute_result"
    }
   ],
   "source": [
    "q"
   ]
  },
  {
   "cell_type": "markdown",
   "id": "97ae2b5b-cb1f-45bc-b685-16934797d10b",
   "metadata": {},
   "source": [
    "Return all the keys and values of the dictionary."
   ]
  },
  {
   "cell_type": "code",
   "execution_count": 63,
   "id": "d5f7f8b3-a950-4e92-81a7-ee7dcac46f50",
   "metadata": {},
   "outputs": [
    {
     "data": {
      "text/plain": [
       "dict_keys(['key1', 'key2', 'k3'])"
      ]
     },
     "execution_count": 63,
     "metadata": {},
     "output_type": "execute_result"
    }
   ],
   "source": [
    "q.keys()"
   ]
  },
  {
   "cell_type": "code",
   "execution_count": 65,
   "id": "03b30ab7-3f7e-423e-9d62-71718c7f041c",
   "metadata": {},
   "outputs": [
    {
     "data": {
      "text/plain": [
       "dict_values([100, 200, 300])"
      ]
     },
     "execution_count": 65,
     "metadata": {},
     "output_type": "execute_result"
    }
   ],
   "source": [
    "q.values()"
   ]
  },
  {
   "cell_type": "code",
   "execution_count": 67,
   "id": "b6434836-286b-4762-aa72-b0d600687b38",
   "metadata": {},
   "outputs": [
    {
     "data": {
      "text/plain": [
       "dict_items([('key1', 100), ('key2', 200), ('k3', 300)])"
      ]
     },
     "execution_count": 67,
     "metadata": {},
     "output_type": "execute_result"
    }
   ],
   "source": [
    "q.items()"
   ]
  },
  {
   "cell_type": "code",
   "execution_count": 69,
   "id": "f90d0809-6ebb-4156-afeb-651ac1a00b61",
   "metadata": {},
   "outputs": [],
   "source": [
    "var = q.items()"
   ]
  },
  {
   "cell_type": "code",
   "execution_count": 76,
   "id": "639da084-c0d1-44f7-be1a-984a1f79aed4",
   "metadata": {},
   "outputs": [
    {
     "ename": "TypeError",
     "evalue": "'dict_items' object is not subscriptable",
     "output_type": "error",
     "traceback": [
      "\u001b[0;31m---------------------------------------------------------------------------\u001b[0m",
      "\u001b[0;31mTypeError\u001b[0m                                 Traceback (most recent call last)",
      "Cell \u001b[0;32mIn[76], line 1\u001b[0m\n\u001b[0;32m----> 1\u001b[0m var[\u001b[38;5;241m1\u001b[39m]\n",
      "\u001b[0;31mTypeError\u001b[0m: 'dict_items' object is not subscriptable"
     ]
    }
   ],
   "source": [
    "var[1]"
   ]
  }
 ],
 "metadata": {
  "kernelspec": {
   "display_name": "Python [conda env:base] *",
   "language": "python",
   "name": "conda-base-py"
  },
  "language_info": {
   "codemirror_mode": {
    "name": "ipython",
    "version": 3
   },
   "file_extension": ".py",
   "mimetype": "text/x-python",
   "name": "python",
   "nbconvert_exporter": "python",
   "pygments_lexer": "ipython3",
   "version": "3.12.7"
  }
 },
 "nbformat": 4,
 "nbformat_minor": 5
}
