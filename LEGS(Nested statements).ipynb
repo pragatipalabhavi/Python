{
 "cells": [
  {
   "cell_type": "code",
   "execution_count": 1,
   "id": "548ac83b-761d-4c9a-9e3a-5ee51488977d",
   "metadata": {},
   "outputs": [
    {
     "name": "stdout",
     "output_type": "stream",
     "text": [
      "This is an outer string\n"
     ]
    }
   ],
   "source": [
    "name = \"This is an outer string\"\n",
    "\n",
    "def gret():\n",
    "    name= 'Learning again'\n",
    "    print('Hi',name)\n",
    "\n",
    "    def hello():\n",
    "        name= 'New Learning'\n",
    "        print('Hello',name)\n",
    "\n",
    "        def demo():\n",
    "            name = 'learning'\n",
    "            print('demo',name)\n",
    "\n",
    "        demo()\n",
    "\n",
    "    hello()\n",
    "\n",
    "print(name)"
   ]
  },
  {
   "cell_type": "code",
   "execution_count": 3,
   "id": "38a2141e-d5c2-45ae-85d4-da16d574d670",
   "metadata": {},
   "outputs": [
    {
     "name": "stdout",
     "output_type": "stream",
     "text": [
      "Hi Learning again\n",
      "Hello New Learning\n",
      "demo learning\n"
     ]
    }
   ],
   "source": [
    "gret()"
   ]
  },
  {
   "cell_type": "code",
   "execution_count": null,
   "id": "a8910870-aba8-4945-b496-5674ce0c2b45",
   "metadata": {},
   "outputs": [],
   "source": []
  }
 ],
 "metadata": {
  "kernelspec": {
   "display_name": "Python [conda env:base] *",
   "language": "python",
   "name": "conda-base-py"
  },
  "language_info": {
   "codemirror_mode": {
    "name": "ipython",
    "version": 3
   },
   "file_extension": ".py",
   "mimetype": "text/x-python",
   "name": "python",
   "nbconvert_exporter": "python",
   "pygments_lexer": "ipython3",
   "version": "3.12.7"
  }
 },
 "nbformat": 4,
 "nbformat_minor": 5
}
