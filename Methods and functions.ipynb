{
 "cells": [
  {
   "cell_type": "code",
   "execution_count": 1,
   "id": "2942ab79-5388-4a02-a249-ac64169a349f",
   "metadata": {},
   "outputs": [
    {
     "name": "stdout",
     "output_type": "stream",
     "text": [
      "Before new_function()\n",
      "After new_function()\n"
     ]
    }
   ],
   "source": [
    "print(\"Before new_function()\")\n",
    "def new_function():\n",
    "    print(\"I am called\")\n",
    "print(\"After new_function()\")"
   ]
  },
  {
   "cell_type": "code",
   "execution_count": 3,
   "id": "662c24d5-4dfe-45f8-9b49-ebf93d0a4644",
   "metadata": {},
   "outputs": [
    {
     "name": "stdout",
     "output_type": "stream",
     "text": [
      "I am called\n"
     ]
    }
   ],
   "source": [
    "new_function()"
   ]
  },
  {
   "cell_type": "code",
   "execution_count": 5,
   "id": "34fc7c8b-0d0d-40d1-8523-a1170c12cc70",
   "metadata": {},
   "outputs": [
    {
     "name": "stdout",
     "output_type": "stream",
     "text": [
      "New line\n"
     ]
    }
   ],
   "source": [
    "def demo_function(x,y):\n",
    "    print(\"I will be printed\")\n",
    "    print(y)\n",
    "print(\"New line\")"
   ]
  },
  {
   "cell_type": "code",
   "execution_count": 7,
   "id": "f5291c9d-b484-404b-b861-d5fee73db987",
   "metadata": {},
   "outputs": [
    {
     "name": "stdout",
     "output_type": "stream",
     "text": [
      "I will be printed\n",
      "100\n"
     ]
    }
   ],
   "source": [
    "demo_function('pass',100)"
   ]
  },
  {
   "cell_type": "code",
   "execution_count": 9,
   "id": "6e35610d-505c-4fbf-8ffc-417ac910c8f5",
   "metadata": {},
   "outputs": [],
   "source": [
    "def newfunction(name,age):\n",
    "    print(\"Hello\",name)\n",
    "    print(f'Hi {age}')\n",
    "    print('hey :{}'.format(name))\n",
    "    print(\"Bye\")\n",
    "    return 100"
   ]
  },
  {
   "cell_type": "code",
   "execution_count": 11,
   "id": "fcbf8db9-5dfb-4bcb-8383-25cf14c6c200",
   "metadata": {},
   "outputs": [
    {
     "name": "stdout",
     "output_type": "stream",
     "text": [
      "Hello Besant\n",
      "Hi 50\n",
      "hey :Besant\n",
      "Bye\n"
     ]
    },
    {
     "data": {
      "text/plain": [
       "100"
      ]
     },
     "execution_count": 11,
     "metadata": {},
     "output_type": "execute_result"
    }
   ],
   "source": [
    "newfunction('Besant',50)"
   ]
  },
  {
   "cell_type": "code",
   "execution_count": 13,
   "id": "91958de2-8ef6-4df8-903d-dd7133e281c0",
   "metadata": {},
   "outputs": [
    {
     "name": "stdout",
     "output_type": "stream",
     "text": [
      "Hello Besant\n",
      "Hi 50\n",
      "hey :Besant\n",
      "Bye\n"
     ]
    },
    {
     "data": {
      "text/plain": [
       "int"
      ]
     },
     "execution_count": 13,
     "metadata": {},
     "output_type": "execute_result"
    }
   ],
   "source": [
    "type(newfunction('Besant',50))"
   ]
  },
  {
   "cell_type": "code",
   "execution_count": 15,
   "id": "28d1d527-fd8e-4912-9262-d8b46fc96abd",
   "metadata": {},
   "outputs": [
    {
     "name": "stdout",
     "output_type": "stream",
     "text": [
      "Hello Besant\n",
      "Hi 50\n",
      "hey :Besant\n",
      "Bye\n"
     ]
    },
    {
     "ename": "TypeError",
     "evalue": "unsupported operand type(s) for +: 'int' and 'str'",
     "output_type": "error",
     "traceback": [
      "\u001b[0;31m---------------------------------------------------------------------------\u001b[0m",
      "\u001b[0;31mTypeError\u001b[0m                                 Traceback (most recent call last)",
      "Cell \u001b[0;32mIn[15], line 1\u001b[0m\n\u001b[0;32m----> 1\u001b[0m \u001b[38;5;28mprint\u001b[39m(newfunction(\u001b[38;5;124m'\u001b[39m\u001b[38;5;124mBesant\u001b[39m\u001b[38;5;124m'\u001b[39m,\u001b[38;5;241m50\u001b[39m)\u001b[38;5;241m+\u001b[39m\u001b[38;5;124m'\u001b[39m\u001b[38;5;124mTechnologies\u001b[39m\u001b[38;5;124m'\u001b[39m)\n",
      "\u001b[0;31mTypeError\u001b[0m: unsupported operand type(s) for +: 'int' and 'str'"
     ]
    }
   ],
   "source": [
    "print(newfunction('Besant',50)+'Technologies')"
   ]
  },
  {
   "cell_type": "code",
   "execution_count": 17,
   "id": "8a28ae31-48fd-497f-9520-0fcc664d1d94",
   "metadata": {},
   "outputs": [
    {
     "name": "stdout",
     "output_type": "stream",
     "text": [
      "Current: 48, Previous: 46, Sum: 94\n",
      "Current: 50, Previous: 48, Sum: 98\n",
      "Current: 52, Previous: 50, Sum: 102\n",
      "Current: 54, Previous: 52, Sum: 106\n",
      "Current: 56, Previous: 54, Sum: 110\n",
      "Current: 58, Previous: 56, Sum: 114\n",
      "Current: 60, Previous: 58, Sum: 118\n",
      "Current: 62, Previous: 60, Sum: 122\n",
      "Current: 64, Previous: 62, Sum: 126\n",
      "Current: 66, Previous: 64, Sum: 130\n"
     ]
    }
   ],
   "source": [
    "for num in range(48, 68, 2):# Only even numbers\n",
    "    previous = num - 2\n",
    "    total = num + previous\n",
    "    print(f\"Current: {num}, Previous: {previous}, Sum: {total}\")"
   ]
  },
  {
   "cell_type": "code",
   "execution_count": 19,
   "id": "e8d45ca7-fee8-4aec-b92a-8f3d0f171a3b",
   "metadata": {},
   "outputs": [
    {
     "name": "stdin",
     "output_type": "stream",
     "text": [
      "Enter your mobile number:  8867915773\n"
     ]
    },
    {
     "name": "stdout",
     "output_type": "stream",
     "text": [
      "Reversed Mobile Number: 3775197688\n",
      "Odd Digits (sorted): [1, 3, 5, 7, 7, 7, 9]\n"
     ]
    }
   ],
   "source": [
    "# Input mobile number\n",
    "mobile_number = input(\"Enter your mobile number: \")\n",
    "\n",
    "# Reverse the mobile number\n",
    "reversed_number = mobile_number[::-1]\n",
    "\n",
    "# Extract only odd digits\n",
    "odd_digits = [int(digit) for digit in reversed_number if int(digit) % 2 != 0]\n",
    "\n",
    "# Sort odd digits in ascending order\n",
    "sorted_odd_digits = sorted(odd_digits)\n",
    "\n",
    "# Print results\n",
    "print(f\"Reversed Mobile Number: {reversed_number}\")\n",
    "print(f\"Odd Digits (sorted): {sorted_odd_digits}\")"
   ]
  },
  {
   "cell_type": "code",
   "execution_count": 21,
   "id": "c0772079-17bb-4f88-a6e8-433e63e43704",
   "metadata": {},
   "outputs": [
    {
     "name": "stdin",
     "output_type": "stream",
     "text": [
      "Enter a sentence:  I will attend Python test\n"
     ]
    },
    {
     "name": "stdout",
     "output_type": "stream",
     "text": [
      "Words sorted by ASCII value of the first character:\n",
      "I Python attend test will\n"
     ]
    }
   ],
   "source": [
    "# Input sentence\n",
    "sentence = input(\"Enter a sentence: \")\n",
    "\n",
    "# Split the sentence into words\n",
    "words = sentence.split()\n",
    "\n",
    "# Sort words based on the ASCII value of the first character\n",
    "sorted_words = sorted(words, key=lambda word: ord(word[0]))\n",
    "\n",
    "# Print the sorted words\n",
    "print(\"Words sorted by ASCII value of the first character:\")\n",
    "print(' '.join(sorted_words))"
   ]
  },
  {
   "cell_type": "code",
   "execution_count": 23,
   "id": "9d6e5466-2095-48e8-83e1-9701fd0ad03a",
   "metadata": {},
   "outputs": [
    {
     "name": "stdout",
     "output_type": "stream",
     "text": [
      "48\n",
      "50\n",
      "52\n",
      "54\n",
      "56\n",
      "58\n",
      "60\n",
      "62\n",
      "64\n",
      "66\n"
     ]
    }
   ],
   "source": [
    "for num in range (47,67):\n",
    "    if num % 2 == 0:\n",
    "        print(num)"
   ]
  },
  {
   "cell_type": "code",
   "execution_count": null,
   "id": "683ec7cb-97a2-4cc8-afb3-ab5c1debdf4d",
   "metadata": {},
   "outputs": [],
   "source": []
  }
 ],
 "metadata": {
  "kernelspec": {
   "display_name": "Python [conda env:base] *",
   "language": "python",
   "name": "conda-base-py"
  },
  "language_info": {
   "codemirror_mode": {
    "name": "ipython",
    "version": 3
   },
   "file_extension": ".py",
   "mimetype": "text/x-python",
   "name": "python",
   "nbconvert_exporter": "python",
   "pygments_lexer": "ipython3",
   "version": "3.12.7"
  }
 },
 "nbformat": 4,
 "nbformat_minor": 5
}
