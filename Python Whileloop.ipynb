{
 "cells": [
  {
   "cell_type": "code",
   "execution_count": 2,
   "id": "6ad80ff7-6a3f-4d4f-ae3d-070cd1196258",
   "metadata": {},
   "outputs": [],
   "source": [
    "x = 10\n",
    "y = 45"
   ]
  },
  {
   "cell_type": "code",
   "execution_count": 4,
   "id": "3fde7137-5664-4ef7-be60-a037e2efcdcd",
   "metadata": {},
   "outputs": [
    {
     "name": "stdout",
     "output_type": "stream",
     "text": [
      "The current value of x is 10\n",
      "The current value of x is 12\n",
      "The current value of x is 14\n",
      "The current value of x is 16\n",
      "The current value of x is 18\n",
      "The current value of x is 20\n",
      "The current value of x is 22\n",
      "The current value of x is 24\n",
      "The current value of x is 26\n",
      "The current value of x is 28\n",
      "The current value of x is 30\n",
      "The current value of x is 32\n",
      "The current value of x is 34\n",
      "The current value of x is 36\n",
      "The current value of x is 38\n",
      "The current value of x is 40\n",
      "The current value of x is 42\n",
      "The current value of x is 44\n",
      "46 is not less than 45\n"
     ]
    }
   ],
   "source": [
    "while x <= y:\n",
    "    print(f\"The current value of x is {x}\")\n",
    "    x += 2\n",
    "else:\n",
    "    print(f\"{x} is not less than {y}\")"
   ]
  },
  {
   "cell_type": "code",
   "execution_count": 6,
   "id": "b476ec81-f1d6-4068-83a5-41f2cff4e2c7",
   "metadata": {},
   "outputs": [
    {
     "name": "stdout",
     "output_type": "stream",
     "text": [
      "even number : 2\n",
      "even number : 4\n",
      "even number : 6\n",
      "even number : 8\n",
      "Sum of first five even number: 20\n"
     ]
    }
   ],
   "source": [
    "x=2\n",
    "sum=0\n",
    "while x<10:\n",
    "    print(\"even number :\", x)\n",
    "    sum=sum+x\n",
    "    x=x+2\n",
    "print(\"Sum of first five even number:\",sum)"
   ]
  },
  {
   "cell_type": "code",
   "execution_count": 8,
   "id": "dd34c09f-a059-411c-92ca-2f64bafc138a",
   "metadata": {},
   "outputs": [
    {
     "name": "stdout",
     "output_type": "stream",
     "text": [
      "1\n",
      "3\n",
      "5\n",
      "7\n",
      "9\n",
      "11\n",
      "13\n",
      "15\n",
      "17\n",
      "19\n",
      "21\n",
      "23\n",
      "25\n",
      "27\n",
      "29\n",
      "31\n",
      "33\n",
      "35\n",
      "37\n",
      "39\n",
      "41\n"
     ]
    }
   ],
   "source": [
    "x = 0\n",
    "y = 40\n",
    "while x <=y:\n",
    "    x += 1\n",
    "    if x%2 == 0:\n",
    "        if x==2 or x==4:\n",
    "            pass\n",
    "    else:\n",
    "        print(x)"
   ]
  },
  {
   "cell_type": "code",
   "execution_count": 10,
   "id": "b58df5ce-c9a9-4a78-aa49-680005451d70",
   "metadata": {},
   "outputs": [
    {
     "name": "stdout",
     "output_type": "stream",
     "text": [
      "while loop ends!\n"
     ]
    }
   ],
   "source": [
    "x=20\n",
    "y=30\n",
    "while x>=y:\n",
    "    print(x)\n",
    "    x-=1\n",
    "else:\n",
    "    print(\"while loop ends!\")"
   ]
  },
  {
   "cell_type": "code",
   "execution_count": 12,
   "id": "e72553bd-9545-4874-9cee-f8e0c9de14b7",
   "metadata": {},
   "outputs": [
    {
     "name": "stdout",
     "output_type": "stream",
     "text": [
      "Hi 35\n"
     ]
    }
   ],
   "source": [
    "x = 35\n",
    "y = 57\n",
    "while x<=y:\n",
    "    if x%2==1:\n",
    "        print('Hi',x)\n",
    "        x+=3\n",
    "    else:\n",
    "        x+=2"
   ]
  },
  {
   "cell_type": "code",
   "execution_count": null,
   "id": "7e73a878-6b96-4e47-a482-753e73dacb90",
   "metadata": {},
   "outputs": [],
   "source": []
  }
 ],
 "metadata": {
  "kernelspec": {
   "display_name": "Python [conda env:base] *",
   "language": "python",
   "name": "conda-base-py"
  },
  "language_info": {
   "codemirror_mode": {
    "name": "ipython",
    "version": 3
   },
   "file_extension": ".py",
   "mimetype": "text/x-python",
   "name": "python",
   "nbconvert_exporter": "python",
   "pygments_lexer": "ipython3",
   "version": "3.12.7"
  }
 },
 "nbformat": 4,
 "nbformat_minor": 5
}
