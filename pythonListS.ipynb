{
 "cells": [
  {
   "cell_type": "code",
   "execution_count": 37,
   "id": "50aac00f-2913-440b-8415-1b19ca543e5f",
   "metadata": {},
   "outputs": [],
   "source": [
    "my_list = [30,51,64]"
   ]
  },
  {
   "cell_type": "code",
   "execution_count": 9,
   "id": "51e50371-53e3-45d4-a150-6619846072c5",
   "metadata": {},
   "outputs": [
    {
     "name": "stdout",
     "output_type": "stream",
     "text": [
      "[30, 51, 64]\n"
     ]
    }
   ],
   "source": [
    "print(my_list)"
   ]
  },
  {
   "cell_type": "code",
   "execution_count": 11,
   "id": "3e8b05c3-ae32-4534-bb6f-680e6a3f5e60",
   "metadata": {},
   "outputs": [
    {
     "data": {
      "text/plain": [
       "[30, 51, 64]"
      ]
     },
     "execution_count": 11,
     "metadata": {},
     "output_type": "execute_result"
    }
   ],
   "source": [
    "my_list"
   ]
  },
  {
   "cell_type": "code",
   "execution_count": 1,
   "id": "4c875275-dc8c-4cea-9c16-e02f4d9107ed",
   "metadata": {},
   "outputs": [],
   "source": [
    "my_list1 = [\"strings\",2,30.555,87,4658,34]#items with diff datatypes are allowed in list"
   ]
  },
  {
   "cell_type": "code",
   "execution_count": 3,
   "id": "67a1f313-2a2a-4875-9312-2b61a471a382",
   "metadata": {},
   "outputs": [
    {
     "name": "stdout",
     "output_type": "stream",
     "text": [
      "34\n"
     ]
    }
   ],
   "source": [
    "print(my_list1[5])"
   ]
  },
  {
   "cell_type": "code",
   "execution_count": 5,
   "id": "7b1090c4-af1c-4a1e-923c-d21fed79fd10",
   "metadata": {},
   "outputs": [
    {
     "data": {
      "text/plain": [
       "4658"
      ]
     },
     "execution_count": 5,
     "metadata": {},
     "output_type": "execute_result"
    }
   ],
   "source": [
    "my_list1[-2]#reverse Indexing "
   ]
  },
  {
   "cell_type": "code",
   "execution_count": 11,
   "id": "65f5e5fd-5a43-4b75-a56e-6cb45bf36075",
   "metadata": {},
   "outputs": [
    {
     "data": {
      "text/plain": [
       "7"
      ]
     },
     "execution_count": 11,
     "metadata": {},
     "output_type": "execute_result"
    }
   ],
   "source": [
    "len(my_list)"
   ]
  },
  {
   "cell_type": "code",
   "execution_count": 9,
   "id": "9740b8a3-4f5e-451b-9e99-7aacb457b2e2",
   "metadata": {},
   "outputs": [],
   "source": [
    "my_list = ['one','two','three',85,963,741,'four']"
   ]
  },
  {
   "cell_type": "code",
   "execution_count": 23,
   "id": "fbf4363a-c3f5-423f-b0df-68f419b39396",
   "metadata": {},
   "outputs": [],
   "source": [
    "newList = [10,20,30,40,50]"
   ]
  },
  {
   "cell_type": "code",
   "execution_count": 29,
   "id": "252af165-ce71-45d3-8d7e-37eafbd3617c",
   "metadata": {},
   "outputs": [
    {
     "data": {
      "text/plain": [
       "['one', 'two', 'three', 85, 963, 741, 'four']"
      ]
     },
     "execution_count": 29,
     "metadata": {},
     "output_type": "execute_result"
    }
   ],
   "source": [
    " my_list[0:] #List Slicing"
   ]
  },
  {
   "cell_type": "code",
   "execution_count": 75,
   "id": "596bbf21-b774-42da-990c-e9b0cc3d1ff5",
   "metadata": {},
   "outputs": [
    {
     "data": {
      "text/plain": [
       "30"
      ]
     },
     "execution_count": 75,
     "metadata": {},
     "output_type": "execute_result"
    }
   ],
   "source": [
    "10+20"
   ]
  },
  {
   "cell_type": "code",
   "execution_count": 17,
   "id": "6a105b77-4a87-4ee5-8316-8c4ecaa6868c",
   "metadata": {},
   "outputs": [
    {
     "data": {
      "text/plain": [
       "['one',\n",
       " 'two',\n",
       " 'three',\n",
       " 85,\n",
       " 963,\n",
       " 741,\n",
       " 'four',\n",
       " 'one',\n",
       " 'two',\n",
       " 'three',\n",
       " 85,\n",
       " 963,\n",
       " 741,\n",
       " 'four']"
      ]
     },
     "execution_count": 17,
     "metadata": {},
     "output_type": "execute_result"
    }
   ],
   "source": [
    "my_list + my_list"
   ]
  },
  {
   "cell_type": "code",
   "execution_count": 35,
   "id": "451901a1-3d40-485f-9ff8-0b3a93394cf9",
   "metadata": {},
   "outputs": [],
   "source": [
    "my_list[-4]= 66  #mutability"
   ]
  },
  {
   "cell_type": "code",
   "execution_count": 33,
   "id": "b864a789-795d-409f-b4af-e1fd29bf7c2e",
   "metadata": {},
   "outputs": [
    {
     "data": {
      "text/plain": [
       "['one', 'two', 'three', 66, 963, 741, 'four']"
      ]
     },
     "execution_count": 33,
     "metadata": {},
     "output_type": "execute_result"
    }
   ],
   "source": [
    "my_list"
   ]
  },
  {
   "cell_type": "markdown",
   "id": "2f93eac4-350a-4fa1-bd34-c7e9444f4e26",
   "metadata": {},
   "source": [
    "append() method is used to add new items to the list "
   ]
  },
  {
   "cell_type": "code",
   "execution_count": 27,
   "id": "639b1ad0-d1b7-46af-92d9-3fb474026859",
   "metadata": {},
   "outputs": [],
   "source": [
    "my_list.append('newValue') "
   ]
  },
  {
   "cell_type": "code",
   "execution_count": 29,
   "id": "adfc6671-b8d6-4285-8bb1-fab2984f63ae",
   "metadata": {},
   "outputs": [
    {
     "data": {
      "text/plain": [
       "['one', 'two', 'three', 85, 963, 741, 'four', 'newValue']"
      ]
     },
     "execution_count": 29,
     "metadata": {},
     "output_type": "execute_result"
    }
   ],
   "source": [
    "my_list"
   ]
  },
  {
   "cell_type": "code",
   "execution_count": 31,
   "id": "62dd9e5c-d3e7-4829-b1a7-3e72bef66277",
   "metadata": {},
   "outputs": [
    {
     "data": {
      "text/plain": [
       "'four'"
      ]
     },
     "execution_count": 31,
     "metadata": {},
     "output_type": "execute_result"
    }
   ],
   "source": [
    "my_list.pop(-2)"
   ]
  },
  {
   "cell_type": "code",
   "execution_count": 33,
   "id": "e5819e54-433e-4333-b39c-ce639f88c18a",
   "metadata": {},
   "outputs": [
    {
     "data": {
      "text/plain": [
       "['one', 'two', 'three', 85, 963, 741, 'newValue']"
      ]
     },
     "execution_count": 33,
     "metadata": {},
     "output_type": "execute_result"
    }
   ],
   "source": [
    "my_list"
   ]
  },
  {
   "cell_type": "code",
   "execution_count": 35,
   "id": "51fbf31d-dfb2-4384-abfb-8d47e1ffeb5d",
   "metadata": {},
   "outputs": [],
   "source": [
    "mylist1 = [1,2,3,4,5]"
   ]
  },
  {
   "cell_type": "code",
   "execution_count": 37,
   "id": "b25c97f7-de66-49ae-9698-08d30fb82088",
   "metadata": {},
   "outputs": [],
   "source": [
    "mylist2 = [10,'twenty',30]"
   ]
  },
  {
   "cell_type": "code",
   "execution_count": 41,
   "id": "fdbe99ed-105e-4624-bcaf-ab4a688c6c6e",
   "metadata": {},
   "outputs": [],
   "source": [
    "mylist1.append(mylist2)"
   ]
  },
  {
   "cell_type": "code",
   "execution_count": 43,
   "id": "7df6dda3-37cb-4e6c-b135-92dd68972737",
   "metadata": {},
   "outputs": [
    {
     "data": {
      "text/plain": [
       "[1, 2, 3, 4, 5, [10, 'twenty', 30]]"
      ]
     },
     "execution_count": 43,
     "metadata": {},
     "output_type": "execute_result"
    }
   ],
   "source": [
    "mylist1"
   ]
  },
  {
   "cell_type": "code",
   "execution_count": 45,
   "id": "9abefe0e-23e1-4ef0-a276-5a36e8fd341b",
   "metadata": {},
   "outputs": [
    {
     "name": "stdout",
     "output_type": "stream",
     "text": [
      "twenty\n"
     ]
    }
   ],
   "source": [
    "print(mylist1[-1][-2])"
   ]
  },
  {
   "cell_type": "code",
   "execution_count": 47,
   "id": "3fe7d0a5-76fc-4a39-b733-7707145c0f53",
   "metadata": {},
   "outputs": [
    {
     "data": {
      "text/plain": [
       "'twenty'"
      ]
     },
     "execution_count": 47,
     "metadata": {},
     "output_type": "execute_result"
    }
   ],
   "source": [
    "mylist1[5][-2]"
   ]
  },
  {
   "cell_type": "markdown",
   "id": "bde5ed5e-df4f-4e96-93a5-6357fcd5f15c",
   "metadata": {},
   "source": [
    "By default pop() removes the last element. However, we can also pass the index number as parameter to remove a particular item."
   ]
  },
  {
   "cell_type": "code",
   "execution_count": 50,
   "id": "03e0ae75-4cce-4b18-b15f-8a1c7c052f3c",
   "metadata": {},
   "outputs": [],
   "source": [
    "poppedElement = mylist1.pop(0)"
   ]
  },
  {
   "cell_type": "code",
   "execution_count": 52,
   "id": "e8bda582-e004-4a9b-bfdf-afa4678ed0fa",
   "metadata": {},
   "outputs": [],
   "source": [
    "fruits = ['apple','mango','orange','banana','potato','grapes']\n",
    "veggies = ['carrot','tomato','onion']"
   ]
  },
  {
   "cell_type": "code",
   "execution_count": 54,
   "id": "1a9bd56a-eeb1-40f8-a429-adbc4bb76299",
   "metadata": {},
   "outputs": [],
   "source": [
    "tempveg = fruits.pop(-2)"
   ]
  },
  {
   "cell_type": "code",
   "execution_count": 56,
   "id": "7fc580c6-2e0f-4f8e-a4c3-681a5b22a170",
   "metadata": {},
   "outputs": [
    {
     "data": {
      "text/plain": [
       "'potato'"
      ]
     },
     "execution_count": 56,
     "metadata": {},
     "output_type": "execute_result"
    }
   ],
   "source": [
    "tempveg"
   ]
  },
  {
   "cell_type": "code",
   "execution_count": 60,
   "id": "57259566-5a8f-4d52-a0bb-bcefee6fbd7b",
   "metadata": {},
   "outputs": [],
   "source": [
    "veggies.append(tempveg)"
   ]
  },
  {
   "cell_type": "code",
   "execution_count": 62,
   "id": "2d50467e-2c52-418d-bf0a-da3c35c23b06",
   "metadata": {},
   "outputs": [
    {
     "data": {
      "text/plain": [
       "['carrot', 'tomato', 'onion', 'potato']"
      ]
     },
     "execution_count": 62,
     "metadata": {},
     "output_type": "execute_result"
    }
   ],
   "source": [
    "veggies"
   ]
  },
  {
   "cell_type": "code",
   "execution_count": 64,
   "id": "302c6663-c3d6-45cf-8343-150e4ec0db30",
   "metadata": {},
   "outputs": [],
   "source": [
    "x = 10\n",
    "y = 20.36\n",
    "z = 'besant'\n",
    "a = [1,2,3]\n",
    "b = True"
   ]
  },
  {
   "cell_type": "code",
   "execution_count": 66,
   "id": "785f0c2f-447e-4e0f-a072-852be88a4da8",
   "metadata": {},
   "outputs": [
    {
     "data": {
      "text/plain": [
       "int"
      ]
     },
     "execution_count": 66,
     "metadata": {},
     "output_type": "execute_result"
    }
   ],
   "source": [
    "type(x)"
   ]
  },
  {
   "cell_type": "code",
   "execution_count": 68,
   "id": "c627f15d-b00c-40b2-b791-a6a27eb1b00d",
   "metadata": {},
   "outputs": [
    {
     "data": {
      "text/plain": [
       "float"
      ]
     },
     "execution_count": 68,
     "metadata": {},
     "output_type": "execute_result"
    }
   ],
   "source": [
    "type(y)"
   ]
  },
  {
   "cell_type": "code",
   "execution_count": 70,
   "id": "05378fed-1fd5-4d3c-8f23-cd5c7ea080d2",
   "metadata": {},
   "outputs": [
    {
     "data": {
      "text/plain": [
       "str"
      ]
     },
     "execution_count": 70,
     "metadata": {},
     "output_type": "execute_result"
    }
   ],
   "source": [
    "type(z)"
   ]
  },
  {
   "cell_type": "code",
   "execution_count": 72,
   "id": "2d37b5ed-75ba-49d1-b726-38cf7a18816e",
   "metadata": {},
   "outputs": [
    {
     "data": {
      "text/plain": [
       "list"
      ]
     },
     "execution_count": 72,
     "metadata": {},
     "output_type": "execute_result"
    }
   ],
   "source": [
    "type(a)"
   ]
  },
  {
   "cell_type": "code",
   "execution_count": 74,
   "id": "176b3267-acc5-488e-89f9-e7738c3792e1",
   "metadata": {},
   "outputs": [
    {
     "data": {
      "text/plain": [
       "bool"
      ]
     },
     "execution_count": 74,
     "metadata": {},
     "output_type": "execute_result"
    }
   ],
   "source": [
    "type(b)"
   ]
  },
  {
   "cell_type": "markdown",
   "id": "0822aac8-ed39-49e8-a7d3-c607d17e11d9",
   "metadata": {},
   "source": [
    "Sorthing the list in python"
   ]
  },
  {
   "cell_type": "code",
   "execution_count": 76,
   "id": "065e203c-1034-4681-8ab4-4f8d1f9a66ef",
   "metadata": {},
   "outputs": [],
   "source": [
    "newList = ['A','h','r','a','c','b','z','Z','X']\n",
    "numList = [6,8,9,1,5,4]"
   ]
  },
  {
   "cell_type": "code",
   "execution_count": 78,
   "id": "f8bd3abb-5406-47fc-80d2-31f7319efb4e",
   "metadata": {},
   "outputs": [],
   "source": [
    "newList.sort()"
   ]
  },
  {
   "cell_type": "code",
   "execution_count": 80,
   "id": "69c9c496-59d6-4881-add0-d9d8b9130cc1",
   "metadata": {},
   "outputs": [
    {
     "data": {
      "text/plain": [
       "['A', 'X', 'Z', 'a', 'b', 'c', 'h', 'r', 'z']"
      ]
     },
     "execution_count": 80,
     "metadata": {},
     "output_type": "execute_result"
    }
   ],
   "source": [
    "newList"
   ]
  },
  {
   "cell_type": "code",
   "execution_count": 82,
   "id": "88071893-b125-4029-9051-20c8a69cec35",
   "metadata": {},
   "outputs": [],
   "source": [
    "numList.sort()"
   ]
  },
  {
   "cell_type": "code",
   "execution_count": 84,
   "id": "b31cef8b-a3ac-472a-a2a5-769346346c57",
   "metadata": {},
   "outputs": [
    {
     "data": {
      "text/plain": [
       "[1, 4, 5, 6, 8, 9]"
      ]
     },
     "execution_count": 84,
     "metadata": {},
     "output_type": "execute_result"
    }
   ],
   "source": [
    "numList"
   ]
  },
  {
   "cell_type": "code",
   "execution_count": 86,
   "id": "b7c6dd8a-2470-41ef-ac57-8b33c2d75a95",
   "metadata": {},
   "outputs": [],
   "source": [
    "mySortedList = newList.sort()"
   ]
  },
  {
   "cell_type": "code",
   "execution_count": 88,
   "id": "96fbeee2-5430-426c-a4f8-2b7db26348df",
   "metadata": {},
   "outputs": [
    {
     "data": {
      "text/plain": [
       "NoneType"
      ]
     },
     "execution_count": 88,
     "metadata": {},
     "output_type": "execute_result"
    }
   ],
   "source": [
    "type(mySortedList)"
   ]
  },
  {
   "cell_type": "code",
   "execution_count": 94,
   "id": "fb5a2768-b927-43bd-8a32-7f1ea7fe6407",
   "metadata": {},
   "outputs": [
    {
     "data": {
      "text/plain": [
       "1"
      ]
     },
     "execution_count": 94,
     "metadata": {},
     "output_type": "execute_result"
    }
   ],
   "source": [
    "numList.count(8)"
   ]
  },
  {
   "cell_type": "code",
   "execution_count": 96,
   "id": "c5078d62-8e19-48cc-bcbe-1b8d668fb433",
   "metadata": {},
   "outputs": [
    {
     "data": {
      "text/plain": [
       "4"
      ]
     },
     "execution_count": 96,
     "metadata": {},
     "output_type": "execute_result"
    }
   ],
   "source": [
    "numList.index(8)"
   ]
  },
  {
   "cell_type": "code",
   "execution_count": 98,
   "id": "b2c5a59e-aacd-4fbb-a49b-e09174bdc917",
   "metadata": {},
   "outputs": [
    {
     "data": {
      "text/plain": [
       "1"
      ]
     },
     "execution_count": 98,
     "metadata": {},
     "output_type": "execute_result"
    }
   ],
   "source": [
    "newList.count('a')"
   ]
  },
  {
   "cell_type": "code",
   "execution_count": 100,
   "id": "db546d69-25b5-444f-b123-11dc433ec062",
   "metadata": {},
   "outputs": [
    {
     "data": {
      "text/plain": [
       "3"
      ]
     },
     "execution_count": 100,
     "metadata": {},
     "output_type": "execute_result"
    }
   ],
   "source": [
    "newList.index('a')"
   ]
  },
  {
   "cell_type": "code",
   "execution_count": null,
   "id": "feed1ea7-d12c-4a54-ad3b-d603ce3612d3",
   "metadata": {},
   "outputs": [],
   "source": []
  }
 ],
 "metadata": {
  "kernelspec": {
   "display_name": "Python [conda env:base] *",
   "language": "python",
   "name": "conda-base-py"
  },
  "language_info": {
   "codemirror_mode": {
    "name": "ipython",
    "version": 3
   },
   "file_extension": ".py",
   "mimetype": "text/x-python",
   "name": "python",
   "nbconvert_exporter": "python",
   "pygments_lexer": "ipython3",
   "version": "3.12.7"
  }
 },
 "nbformat": 4,
 "nbformat_minor": 5
}
