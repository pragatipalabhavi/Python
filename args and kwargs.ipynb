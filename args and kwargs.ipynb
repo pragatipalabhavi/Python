{
 "cells": [
  {
   "cell_type": "code",
   "execution_count": 2,
   "id": "ada9b36f-b4cf-494d-b119-c6b5c0e239b1",
   "metadata": {},
   "outputs": [],
   "source": [
    "def new_function(*args):\n",
    "    for item in args:\n",
    "        print(item)"
   ]
  },
  {
   "cell_type": "code",
   "execution_count": 4,
   "id": "bc64fb69-fc2d-4ccf-9b5e-3ea1de44182b",
   "metadata": {},
   "outputs": [
    {
     "name": "stdout",
     "output_type": "stream",
     "text": [
      "43\n",
      "5\n",
      "32\n",
      "6\n",
      "in\n",
      "at\n",
      "#\n"
     ]
    }
   ],
   "source": [
    "new_function(43,5,32,6,'in','at','#')"
   ]
  },
  {
   "cell_type": "code",
   "execution_count": 6,
   "id": "60f201c3-2a68-4ffa-ae71-5ee524dac820",
   "metadata": {},
   "outputs": [],
   "source": [
    "def my_function(**kwargs):\n",
    "    if \"fruit\" in kwargs:\n",
    "        print(\"My fruit of choice is {}\".format(kwargs['fruit']))\n",
    "    else:\n",
    "        print(\"I did not find any fruit here\")"
   ]
  },
  {
   "cell_type": "code",
   "execution_count": 8,
   "id": "99e98e5c-485d-4a19-b29a-6cd68a1d6afa",
   "metadata": {},
   "outputs": [
    {
     "name": "stdout",
     "output_type": "stream",
     "text": [
      "My fruit of choice is apple\n"
     ]
    }
   ],
   "source": [
    "my_function(veg='tomato', car='120', animal='dog', fruit='apple')"
   ]
  },
  {
   "cell_type": "code",
   "execution_count": 10,
   "id": "6e7dc144-31e2-4fc9-9409-cd757cca903e",
   "metadata": {},
   "outputs": [
    {
     "name": "stdout",
     "output_type": "stream",
     "text": [
      "I did not find any fruit here\n"
     ]
    }
   ],
   "source": [
    "my_function(vegetable='cucumber')"
   ]
  },
  {
   "cell_type": "code",
   "execution_count": 12,
   "id": "7aedabda-3755-48ae-aa3f-daea9a2f7421",
   "metadata": {},
   "outputs": [],
   "source": [
    "def my_new_fruit(*args,**kwargs):\n",
    "    print(args)\n",
    "    print(kwargs)\n",
    "    print(\"I would like to order {} {}\".format(args[-1],kwargs['food']))"
   ]
  },
  {
   "cell_type": "code",
   "execution_count": 14,
   "id": "759d1b32-11ce-4f98-befd-10685ef0d751",
   "metadata": {},
   "outputs": [
    {
     "name": "stdout",
     "output_type": "stream",
     "text": [
      "(10, 20, 30, 40, 425, 45, 7, 1243, 47, 124)\n",
      "{'food': 'biscuit', 'fruit': 'apple', 'chocolate': 'kitkat'}\n",
      "I would like to order 124 biscuit\n"
     ]
    }
   ],
   "source": [
    "my_new_fruit(10,20,30,40,425, 45,7,1243,47,124, food=\"biscuit\", fruit=\"apple\",chocolate=\"kitkat\")"
   ]
  },
  {
   "cell_type": "code",
   "execution_count": null,
   "id": "aef33bc3-5043-48a8-8ea5-f6cbe87319b9",
   "metadata": {},
   "outputs": [],
   "source": []
  }
 ],
 "metadata": {
  "kernelspec": {
   "display_name": "Python [conda env:base] *",
   "language": "python",
   "name": "conda-base-py"
  },
  "language_info": {
   "codemirror_mode": {
    "name": "ipython",
    "version": 3
   },
   "file_extension": ".py",
   "mimetype": "text/x-python",
   "name": "python",
   "nbconvert_exporter": "python",
   "pygments_lexer": "ipython3",
   "version": "3.12.7"
  }
 },
 "nbformat": 4,
 "nbformat_minor": 5
}
