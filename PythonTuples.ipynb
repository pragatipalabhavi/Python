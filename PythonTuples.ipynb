{
 "cells": [
  {
   "cell_type": "markdown",
   "id": "6f4633f2-ab26-4ca6-91a6-59a0b042648c",
   "metadata": {},
   "source": [
    "Tuples are vefry similar to lists. However they have one key difference - IMMUTABILITY\n",
    "\n",
    "once an element is inside a tuple, it can not be ressigned.\n",
    "\n",
    "Tuples use: () paranthesis"
   ]
  },
  {
   "cell_type": "code",
   "execution_count": 7,
   "id": "a732da39-16d0-4e39-a1a3-a04221b7a8f5",
   "metadata": {},
   "outputs": [],
   "source": [
    "t = (1,2,3)"
   ]
  },
  {
   "cell_type": "code",
   "execution_count": 5,
   "id": "e2835f76-ff75-4f5d-8d3e-afc9aa93f27f",
   "metadata": {},
   "outputs": [],
   "source": [
    "my_list = [1,2,3]"
   ]
  },
  {
   "cell_type": "code",
   "execution_count": 13,
   "id": "8556a97b-a583-41cc-9723-692691d12c88",
   "metadata": {},
   "outputs": [
    {
     "data": {
      "text/plain": [
       "tuple"
      ]
     },
     "execution_count": 13,
     "metadata": {},
     "output_type": "execute_result"
    }
   ],
   "source": [
    "type(t)"
   ]
  },
  {
   "cell_type": "code",
   "execution_count": 11,
   "id": "e8639499-e260-43a0-8626-1b8b0cec99c2",
   "metadata": {},
   "outputs": [
    {
     "data": {
      "text/plain": [
       "list"
      ]
     },
     "execution_count": 11,
     "metadata": {},
     "output_type": "execute_result"
    }
   ],
   "source": [
    "type(my_list)"
   ]
  },
  {
   "cell_type": "code",
   "execution_count": 15,
   "id": "e606ff1e-2020-4b66-84f5-0a863f26cc56",
   "metadata": {},
   "outputs": [
    {
     "data": {
      "text/plain": [
       "3"
      ]
     },
     "execution_count": 15,
     "metadata": {},
     "output_type": "execute_result"
    }
   ],
   "source": [
    "len(t)"
   ]
  },
  {
   "cell_type": "code",
   "execution_count": 17,
   "id": "874aca58-dcf7-4f36-ae89-87444e1d11ef",
   "metadata": {},
   "outputs": [
    {
     "data": {
      "text/plain": [
       "3"
      ]
     },
     "execution_count": 17,
     "metadata": {},
     "output_type": "execute_result"
    }
   ],
   "source": [
    "len(my_list)"
   ]
  },
  {
   "cell_type": "code",
   "execution_count": 19,
   "id": "b6ac63d9-b8af-49ce-a1e3-806f823d0503",
   "metadata": {},
   "outputs": [],
   "source": [
    "my_list[0] = 'one'"
   ]
  },
  {
   "cell_type": "code",
   "execution_count": 21,
   "id": "237780f0-57db-4d85-b991-664a0dfd9031",
   "metadata": {},
   "outputs": [
    {
     "data": {
      "text/plain": [
       "['one', 2, 3]"
      ]
     },
     "execution_count": 21,
     "metadata": {},
     "output_type": "execute_result"
    }
   ],
   "source": [
    "my_list"
   ]
  },
  {
   "cell_type": "code",
   "execution_count": 29,
   "id": "7980f4be-86df-4239-ba7b-b70301e9e8da",
   "metadata": {},
   "outputs": [
    {
     "ename": "TypeError",
     "evalue": "'tuple' object does not support item assignment",
     "output_type": "error",
     "traceback": [
      "\u001b[0;31m---------------------------------------------------------------------------\u001b[0m",
      "\u001b[0;31mTypeError\u001b[0m                                 Traceback (most recent call last)",
      "Cell \u001b[0;32mIn[29], line 1\u001b[0m\n\u001b[0;32m----> 1\u001b[0m t[\u001b[38;5;241m0\u001b[39m] \u001b[38;5;241m=\u001b[39m \u001b[38;5;124m'\u001b[39m\u001b[38;5;124mone\u001b[39m\u001b[38;5;124m'\u001b[39m\n",
      "\u001b[0;31mTypeError\u001b[0m: 'tuple' object does not support item assignment"
     ]
    }
   ],
   "source": [
    "t[0] = 'one' #shows that tuple is immutable "
   ]
  },
  {
   "cell_type": "code",
   "execution_count": 27,
   "id": "ac625a8e-0957-43d8-93c8-b2214762ce95",
   "metadata": {},
   "outputs": [
    {
     "data": {
      "text/plain": [
       "(1, 2, 3)"
      ]
     },
     "execution_count": 27,
     "metadata": {},
     "output_type": "execute_result"
    }
   ],
   "source": [
    "t"
   ]
  },
  {
   "cell_type": "code",
   "execution_count": 31,
   "id": "ce924f0d-58fc-4dda-9112-ed6cf1a31551",
   "metadata": {},
   "outputs": [],
   "source": [
    "t = ('a','a','b')"
   ]
  },
  {
   "cell_type": "code",
   "execution_count": 33,
   "id": "3f2dd3f6-b01c-4f79-af71-f1b3f7238a0b",
   "metadata": {},
   "outputs": [
    {
     "data": {
      "text/plain": [
       "2"
      ]
     },
     "execution_count": 33,
     "metadata": {},
     "output_type": "execute_result"
    }
   ],
   "source": [
    "t.count('a')"
   ]
  },
  {
   "cell_type": "markdown",
   "id": "d507519c-4be8-45b3-b358-381637406e03",
   "metadata": {},
   "source": [
    "index() returns first index value of the instance of the item"
   ]
  },
  {
   "cell_type": "code",
   "execution_count": 35,
   "id": "9701d980-d26a-43cc-8334-bb0c1f235d5b",
   "metadata": {},
   "outputs": [
    {
     "data": {
      "text/plain": [
       "0"
      ]
     },
     "execution_count": 35,
     "metadata": {},
     "output_type": "execute_result"
    }
   ],
   "source": [
    "t.index('a')"
   ]
  },
  {
   "cell_type": "code",
   "execution_count": 37,
   "id": "cbaa140f-1401-45b6-b135-419b071718ea",
   "metadata": {},
   "outputs": [],
   "source": [
    "t = (1,1,1,1,2,3,4,5,6,7)"
   ]
  },
  {
   "cell_type": "code",
   "execution_count": 39,
   "id": "245f5ec1-8a83-463a-b9b4-58d9442160d1",
   "metadata": {},
   "outputs": [
    {
     "data": {
      "text/plain": [
       "4"
      ]
     },
     "execution_count": 39,
     "metadata": {},
     "output_type": "execute_result"
    }
   ],
   "source": [
    "t.count(1)"
   ]
  },
  {
   "cell_type": "code",
   "execution_count": null,
   "id": "f1d3b2eb-e534-4342-ac1f-add5d8510823",
   "metadata": {},
   "outputs": [],
   "source": []
  }
 ],
 "metadata": {
  "kernelspec": {
   "display_name": "Python [conda env:base] *",
   "language": "python",
   "name": "conda-base-py"
  },
  "language_info": {
   "codemirror_mode": {
    "name": "ipython",
    "version": 3
   },
   "file_extension": ".py",
   "mimetype": "text/x-python",
   "name": "python",
   "nbconvert_exporter": "python",
   "pygments_lexer": "ipython3",
   "version": "3.12.7"
  }
 },
 "nbformat": 4,
 "nbformat_minor": 5
}
