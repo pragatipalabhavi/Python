{
 "cells": [
  {
   "cell_type": "markdown",
   "id": "54d87d88-98f7-4257-a475-fa8b7fb55f3e",
   "metadata": {},
   "source": [
    "Sets are unordered collections of unique elements\n",
    "\n",
    "Meaning there can only be one representative of the same object\n",
    "\n",
    "Sets dont have a particular order. "
   ]
  },
  {
   "cell_type": "code",
   "execution_count": 2,
   "id": "2f04bd79-b087-4415-add2-d74f17684692",
   "metadata": {},
   "outputs": [],
   "source": [
    "mySet = set()"
   ]
  },
  {
   "cell_type": "code",
   "execution_count": 5,
   "id": "c025b178-3d0b-4df0-9f1b-4edaf7b4ebde",
   "metadata": {},
   "outputs": [
    {
     "data": {
      "text/plain": [
       "set"
      ]
     },
     "execution_count": 5,
     "metadata": {},
     "output_type": "execute_result"
    }
   ],
   "source": [
    "type(mySet)"
   ]
  },
  {
   "cell_type": "code",
   "execution_count": 7,
   "id": "7f3a985b-c115-4e8d-a1eb-f0b0ac49527d",
   "metadata": {},
   "outputs": [],
   "source": [
    "mySet.add(100)"
   ]
  },
  {
   "cell_type": "code",
   "execution_count": 9,
   "id": "ff106369-c225-498e-baf1-6690ec3a7e7a",
   "metadata": {},
   "outputs": [
    {
     "data": {
      "text/plain": [
       "{100}"
      ]
     },
     "execution_count": 9,
     "metadata": {},
     "output_type": "execute_result"
    }
   ],
   "source": [
    "mySet"
   ]
  },
  {
   "cell_type": "code",
   "execution_count": 11,
   "id": "125b3c0d-aef3-4f06-8907-f493e66cce13",
   "metadata": {},
   "outputs": [],
   "source": [
    "mySet.add(250)"
   ]
  },
  {
   "cell_type": "code",
   "execution_count": 13,
   "id": "30db3d81-f890-48c2-b333-51d4cdced974",
   "metadata": {},
   "outputs": [
    {
     "data": {
      "text/plain": [
       "{100, 250}"
      ]
     },
     "execution_count": 13,
     "metadata": {},
     "output_type": "execute_result"
    }
   ],
   "source": [
    "mySet"
   ]
  },
  {
   "cell_type": "code",
   "execution_count": 15,
   "id": "0513a918-9d22-4736-8b66-e79c4a28cd4a",
   "metadata": {},
   "outputs": [],
   "source": [
    "mySet.add(250)"
   ]
  },
  {
   "cell_type": "code",
   "execution_count": 17,
   "id": "d6810bc1-7e5c-438b-bf70-331badadaaca",
   "metadata": {},
   "outputs": [
    {
     "data": {
      "text/plain": [
       "{100, 250}"
      ]
     },
     "execution_count": 17,
     "metadata": {},
     "output_type": "execute_result"
    }
   ],
   "source": [
    "mySet"
   ]
  },
  {
   "cell_type": "markdown",
   "id": "681a2138-ccc7-4d27-b464-f2c2d251f4b0",
   "metadata": {},
   "source": [
    "If we try to add the same value again to the set, it will not throw any error nor will it add the value again. It will just consider to ignore adding."
   ]
  },
  {
   "cell_type": "code",
   "execution_count": 24,
   "id": "5dd56a03-59a6-4511-b7c9-61513257350c",
   "metadata": {},
   "outputs": [],
   "source": [
    "myList = [1,2,3,1,1,2,4,5,9,1,0,2,4,5,1,1,3,1,2,2,5] #Converts a List into Set"
   ]
  },
  {
   "cell_type": "code",
   "execution_count": 21,
   "id": "b72fa22b-0e6d-4dac-bb59-82d2b0bf9a73",
   "metadata": {},
   "outputs": [
    {
     "data": {
      "text/plain": [
       "{0, 1, 2, 3, 4, 5, 9}"
      ]
     },
     "execution_count": 21,
     "metadata": {},
     "output_type": "execute_result"
    }
   ],
   "source": [
    "set(myList)"
   ]
  },
  {
   "cell_type": "code",
   "execution_count": 28,
   "id": "f8fd6542-593c-47b8-a14e-eedf5a9805f3",
   "metadata": {},
   "outputs": [],
   "source": [
    "newSet = {1,1,2,'Hello',8,9,5,6,6,6,'Hi','HI',}"
   ]
  },
  {
   "cell_type": "code",
   "execution_count": 32,
   "id": "fd54f344-b8c8-49f0-a3fe-cf8f751eb4b2",
   "metadata": {},
   "outputs": [
    {
     "data": {
      "text/plain": [
       "{1, 2, 5, 6, 8, 9, 'HI', 'Hello', 'Hi'}"
      ]
     },
     "execution_count": 32,
     "metadata": {},
     "output_type": "execute_result"
    }
   ],
   "source": [
    "newSet"
   ]
  }
 ],
 "metadata": {
  "kernelspec": {
   "display_name": "Python [conda env:base] *",
   "language": "python",
   "name": "conda-base-py"
  },
  "language_info": {
   "codemirror_mode": {
    "name": "ipython",
    "version": 3
   },
   "file_extension": ".py",
   "mimetype": "text/x-python",
   "name": "python",
   "nbconvert_exporter": "python",
   "pygments_lexer": "ipython3",
   "version": "3.12.7"
  }
 },
 "nbformat": 4,
 "nbformat_minor": 5
}
