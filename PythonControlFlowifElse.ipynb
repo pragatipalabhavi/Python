{
 "cells": [
  {
   "cell_type": "markdown",
   "id": "a8b4fd29-eea9-4840-b02b-27e3715ca76a",
   "metadata": {},
   "source": [
    "A Control Flow is used when we often only want certain code to execute when a particular condition has benn met.\n",
    "\n",
    "1.if\n",
    "2.elif\n",
    "3.else\n",
    "\n",
    "Control Flow systax in python:\n",
    "\n",
    "1.Uses coclons\n",
    "2.Uses white Spaces(indentation)\n",
    "\n",
    "if else\n",
    "\n",
    "Syntax: \n",
    "\n",
    " if condition: execute on the baiss of codition execute_code"
   ]
  },
  {
   "cell_type": "code",
   "execution_count": 8,
   "id": "f6891955-3ec2-4a86-9c9b-092a9a438c3b",
   "metadata": {},
   "outputs": [
    {
     "name": "stdout",
     "output_type": "stream",
     "text": [
      "condition sucessful\n"
     ]
    }
   ],
   "source": [
    "if True:\n",
    "    print('condition sucessful')\n",
    "elif True:\n",
    "    print('elif condition is sucessfull')\n",
    "else:\n",
    "    print('conditioin unsucessfull')"
   ]
  },
  {
   "cell_type": "code",
   "execution_count": 10,
   "id": "6dff3632-a5ba-4fb0-a43f-75754077c7c3",
   "metadata": {},
   "outputs": [
    {
     "name": "stdout",
     "output_type": "stream",
     "text": [
      "Condition Sucessfull\n"
     ]
    }
   ],
   "source": [
    "if True:\n",
    "    print('Condition Sucessfull')\n",
    "else:\n",
    "    print('Condition Unsucessfull')"
   ]
  },
  {
   "cell_type": "code",
   "execution_count": 12,
   "id": "19607f83-371a-4dae-80af-5f241aa0746c",
   "metadata": {},
   "outputs": [
    {
     "name": "stdout",
     "output_type": "stream",
     "text": [
      "Condition Unsuccessfull\n"
     ]
    }
   ],
   "source": [
    "if False:\n",
    "    print(\"condition Successfull\")\n",
    "else:\n",
    "    print(\"Condition Unsuccessfull\")\n"
   ]
  },
  {
   "cell_type": "code",
   "execution_count": 18,
   "id": "c7cdee97-83a1-45ad-92f8-4f90822bc49a",
   "metadata": {},
   "outputs": [
    {
     "name": "stdout",
     "output_type": "stream",
     "text": [
      "Flag is On\n"
     ]
    }
   ],
   "source": [
    "switch = True\n",
    "\n",
    "if switch:\n",
    "    print('Flag is On')\n",
    "else:\n",
    "    print('Flag is Off')"
   ]
  },
  {
   "cell_type": "code",
   "execution_count": 20,
   "id": "ca210c83-efc2-4ff3-b630-3acb7d221aae",
   "metadata": {},
   "outputs": [
    {
     "name": "stdout",
     "output_type": "stream",
     "text": [
      "HI\n",
      "x is greater\n",
      "I think I am confused\n",
      "hello\n"
     ]
    }
   ],
   "source": [
    "x = 100\n",
    "y = 200\n",
    "print('HI')\n",
    "if x > y:\n",
    "    print(\"x is lesser\")\n",
    "else:\n",
    "    print(\"x is greater\")\n",
    "    print(\"I think I am confused\")\n",
    "print(\"hello\")"
   ]
  },
  {
   "cell_type": "code",
   "execution_count": 22,
   "id": "38e19c55-0fd1-4918-adb8-8ac5d04625ba",
   "metadata": {},
   "outputs": [
    {
     "name": "stdout",
     "output_type": "stream",
     "text": [
      "x is equal to 1500\n",
      "I'm not confused\n"
     ]
    }
   ],
   "source": [
    "x = 1500\n",
    "\n",
    "if x > 5000:\n",
    "    print('x is less than 5000')\n",
    "elif x<= 1500:\n",
    "    print('x is equal to 1500')\n",
    "else:\n",
    "    print('x is greater than 1500')\n",
    "print(\"I'm not confused\")"
   ]
  },
  {
   "cell_type": "markdown",
   "id": "7cc88294-a1a9-47cc-9b28-cc6efe8bddd4",
   "metadata": {},
   "source": [
    "One Set of if else can have multiple elif statements"
   ]
  },
  {
   "cell_type": "code",
   "execution_count": 27,
   "id": "f3956643-e6b7-40fb-aa29-b0a1750b3d9f",
   "metadata": {},
   "outputs": [
    {
     "name": "stdout",
     "output_type": "stream",
     "text": [
      "I think I am wrong\n",
      "Nothing will Happen\n",
      "I am wrong!!\n"
     ]
    }
   ],
   "source": [
    "var = 30\n",
    "print(\"I think I am wrong\")\n",
    "\n",
    "if var==40:\n",
    "    print(var, \"is equal to 30\")\n",
    "elif var == 20:\n",
    "     print(var, \"is greater than 20\")\n",
    "elif var < 25:\n",
    "     print(var, \"is less than 2\")\n",
    "else:\n",
    "    print('Nothing will Happen')\n",
    "print(\"I am wrong!!\")"
   ]
  },
  {
   "cell_type": "code",
   "execution_count": 29,
   "id": "cc458437-01f1-4bcc-946e-0fdaffc12130",
   "metadata": {},
   "outputs": [],
   "source": [
    "name = 'Besant'"
   ]
  },
  {
   "cell_type": "code",
   "execution_count": 31,
   "id": "fa294006-8cd9-4063-83c1-3570200a365c",
   "metadata": {},
   "outputs": [
    {
     "name": "stdout",
     "output_type": "stream",
     "text": [
      "Hello Besant\n",
      "Whatever user has given as input\n"
     ]
    }
   ],
   "source": [
    "name1 = 'technologies'\n",
    "name2 = 'Technologies'\n",
    "\n",
    "if name2=='Bessant':\n",
    "    print(\"Hello Besant\")\n",
    "elif name==name:\n",
    "    print(f'Hello {name}')\n",
    "else:\n",
    "    print('Hello {q} from else'.format(q = name))\n",
    "print(\"Whatever user has given as input\")"
   ]
  },
  {
   "cell_type": "code",
   "execution_count": 45,
   "id": "cf0d2e66-e280-4aaa-9943-76fe49da81c6",
   "metadata": {},
   "outputs": [
    {
     "name": "stdout",
     "output_type": "stream",
     "text": [
      "Friday\n"
     ]
    }
   ],
   "source": [
    "dayNO = 5\n",
    "\n",
    "match dayNO:\n",
    "    case 1:\n",
    "        print(\"Monday\")\n",
    "    case 2:\n",
    "        print(\"Tuesday\")\n",
    "    case 3:\n",
    "        print(\"Wednesdy\")\n",
    "    case 4:\n",
    "        print(\"Thursady\")\n",
    "    case 5:\n",
    "        print(\"Friday\")\n",
    "    case 6:\n",
    "        print(\"Saturday\")\n",
    "    case 7:\n",
    "        print(\"Sunday\")"
   ]
  },
  {
   "cell_type": "code",
   "execution_count": null,
   "id": "ba0b65c5-8ccc-42bd-baf0-d9f516d3322e",
   "metadata": {},
   "outputs": [],
   "source": []
  }
 ],
 "metadata": {
  "kernelspec": {
   "display_name": "Python [conda env:base] *",
   "language": "python",
   "name": "conda-base-py"
  },
  "language_info": {
   "codemirror_mode": {
    "name": "ipython",
    "version": 3
   },
   "file_extension": ".py",
   "mimetype": "text/x-python",
   "name": "python",
   "nbconvert_exporter": "python",
   "pygments_lexer": "ipython3",
   "version": "3.12.7"
  }
 },
 "nbformat": 4,
 "nbformat_minor": 5
}
